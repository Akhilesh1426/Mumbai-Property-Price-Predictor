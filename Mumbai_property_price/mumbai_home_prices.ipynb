{
 "cells": [
  {
   "cell_type": "code",
   "execution_count": 8,
   "metadata": {},
   "outputs": [],
   "source": [
    "import pandas as pd\n",
    "import numpy as np\n",
    "from matplotlib import pyplot as plt\n",
    "%matplotlib inline\n",
    "import matplotlib \n",
    "matplotlib.rcParams[\"figure.figsize\"] = (20,10)"
   ]
  },
  {
   "cell_type": "code",
   "execution_count": 10,
   "metadata": {
    "scrolled": true
   },
   "outputs": [
    {
     "data": {
      "text/html": [
       "<div>\n",
       "<style scoped>\n",
       "    .dataframe tbody tr th:only-of-type {\n",
       "        vertical-align: middle;\n",
       "    }\n",
       "\n",
       "    .dataframe tbody tr th {\n",
       "        vertical-align: top;\n",
       "    }\n",
       "\n",
       "    .dataframe thead th {\n",
       "        text-align: right;\n",
       "    }\n",
       "</style>\n",
       "<table border=\"1\" class=\"dataframe\">\n",
       "  <thead>\n",
       "    <tr style=\"text-align: right;\">\n",
       "      <th></th>\n",
       "      <th>buildupArea_sqft</th>\n",
       "      <th>bathrooms</th>\n",
       "      <th>bhk</th>\n",
       "      <th>flat_price</th>\n",
       "      <th>location1</th>\n",
       "      <th>age_of_property</th>\n",
       "      <th>furnishing</th>\n",
       "      <th>bedrooms</th>\n",
       "      <th>balcony</th>\n",
       "      <th>parking</th>\n",
       "    </tr>\n",
       "  </thead>\n",
       "  <tbody>\n",
       "    <tr>\n",
       "      <th>0</th>\n",
       "      <td>1060</td>\n",
       "      <td>2</td>\n",
       "      <td>2 BHK Flat</td>\n",
       "      <td>0.95</td>\n",
       "      <td>Mira Road East</td>\n",
       "      <td>recent construction</td>\n",
       "      <td>Semi Furnished</td>\n",
       "      <td>2</td>\n",
       "      <td>0</td>\n",
       "      <td>yes</td>\n",
       "    </tr>\n",
       "    <tr>\n",
       "      <th>1</th>\n",
       "      <td>525</td>\n",
       "      <td>2</td>\n",
       "      <td>1 BHK Flat</td>\n",
       "      <td>0.93</td>\n",
       "      <td>Borivali East</td>\n",
       "      <td>mid age property</td>\n",
       "      <td>Semi Furnished</td>\n",
       "      <td>1</td>\n",
       "      <td>0</td>\n",
       "      <td>no</td>\n",
       "    </tr>\n",
       "    <tr>\n",
       "      <th>2</th>\n",
       "      <td>1065</td>\n",
       "      <td>2</td>\n",
       "      <td>2 BHK Flat</td>\n",
       "      <td>1.48</td>\n",
       "      <td>Bhandup West</td>\n",
       "      <td>new construction</td>\n",
       "      <td>Semi Furnished</td>\n",
       "      <td>2</td>\n",
       "      <td>1</td>\n",
       "      <td>yes</td>\n",
       "    </tr>\n",
       "    <tr>\n",
       "      <th>3</th>\n",
       "      <td>1150</td>\n",
       "      <td>2</td>\n",
       "      <td>3 BHK Flat</td>\n",
       "      <td>2.50</td>\n",
       "      <td>Bhandup West</td>\n",
       "      <td>recent construction</td>\n",
       "      <td>Semi Furnished</td>\n",
       "      <td>3</td>\n",
       "      <td>0</td>\n",
       "      <td>yes</td>\n",
       "    </tr>\n",
       "    <tr>\n",
       "      <th>4</th>\n",
       "      <td>480</td>\n",
       "      <td>2</td>\n",
       "      <td>1 BHK Flat</td>\n",
       "      <td>1.10</td>\n",
       "      <td>Wadala East</td>\n",
       "      <td>new construction</td>\n",
       "      <td>Unfurnished</td>\n",
       "      <td>1</td>\n",
       "      <td>0</td>\n",
       "      <td>yes</td>\n",
       "    </tr>\n",
       "  </tbody>\n",
       "</table>\n",
       "</div>"
      ],
      "text/plain": [
       "   buildupArea_sqft  bathrooms         bhk  flat_price       location1  \\\n",
       "0              1060          2  2 BHK Flat        0.95  Mira Road East   \n",
       "1               525          2  1 BHK Flat        0.93   Borivali East   \n",
       "2              1065          2  2 BHK Flat        1.48    Bhandup West   \n",
       "3              1150          2  3 BHK Flat        2.50    Bhandup West   \n",
       "4               480          2  1 BHK Flat        1.10     Wadala East   \n",
       "\n",
       "       age_of_property      furnishing  bedrooms  balcony parking  \n",
       "0  recent construction  Semi Furnished         2        0     yes  \n",
       "1     mid age property  Semi Furnished         1        0      no  \n",
       "2     new construction  Semi Furnished         2        1     yes  \n",
       "3  recent construction  Semi Furnished         3        0     yes  \n",
       "4     new construction     Unfurnished         1        0     yes  "
      ]
     },
     "execution_count": 10,
     "metadata": {},
     "output_type": "execute_result"
    }
   ],
   "source": [
    "df1 = pd.read_csv(\"mumbai_house_prices.csv\")\n",
    "df1.head()"
   ]
  },
  {
   "cell_type": "code",
   "execution_count": 11,
   "metadata": {},
   "outputs": [
    {
     "data": {
      "text/plain": [
       "(7483, 10)"
      ]
     },
     "execution_count": 11,
     "metadata": {},
     "output_type": "execute_result"
    }
   ],
   "source": [
    "df1.shape"
   ]
  },
  {
   "cell_type": "code",
   "execution_count": 12,
   "metadata": {},
   "outputs": [
    {
     "data": {
      "text/plain": [
       "Index(['buildupArea_sqft', 'bathrooms', 'bhk', 'flat_price', 'location1',\n",
       "       'age_of_property', 'furnishing', 'bedrooms', 'balcony', 'parking'],\n",
       "      dtype='object')"
      ]
     },
     "execution_count": 12,
     "metadata": {},
     "output_type": "execute_result"
    }
   ],
   "source": [
    "df1.columns"
   ]
  },
  {
   "cell_type": "code",
   "execution_count": 26,
   "metadata": {},
   "outputs": [
    {
     "data": {
      "text/plain": [
       "(7483, 5)"
      ]
     },
     "execution_count": 26,
     "metadata": {},
     "output_type": "execute_result"
    }
   ],
   "source": [
    "df2 = df1.drop(['age_of_property','furnishing','balcony','parking','bedrooms'],axis='columns')\n",
    "df2.shape"
   ]
  },
  {
   "cell_type": "code",
   "execution_count": 27,
   "metadata": {},
   "outputs": [
    {
     "data": {
      "text/plain": [
       "buildupArea_sqft    0\n",
       "bathrooms           0\n",
       "bhk                 0\n",
       "flat_price          0\n",
       "location1           0\n",
       "dtype: int64"
      ]
     },
     "execution_count": 27,
     "metadata": {},
     "output_type": "execute_result"
    }
   ],
   "source": [
    "df2.isnull().sum()"
   ]
  },
  {
   "cell_type": "code",
   "execution_count": 28,
   "metadata": {},
   "outputs": [
    {
     "data": {
      "text/plain": [
       "(7483, 5)"
      ]
     },
     "execution_count": 28,
     "metadata": {},
     "output_type": "execute_result"
    }
   ],
   "source": [
    "df2.shape"
   ]
  },
  {
   "cell_type": "code",
   "execution_count": 29,
   "metadata": {},
   "outputs": [
    {
     "data": {
      "text/plain": [
       "buildupArea_sqft    0\n",
       "bathrooms           0\n",
       "bhk                 0\n",
       "flat_price          0\n",
       "location1           0\n",
       "dtype: int64"
      ]
     },
     "execution_count": 29,
     "metadata": {},
     "output_type": "execute_result"
    }
   ],
   "source": [
    "df3 = df2.dropna()\n",
    "df3.isnull().sum()"
   ]
  },
  {
   "cell_type": "code",
   "execution_count": 30,
   "metadata": {},
   "outputs": [
    {
     "data": {
      "text/plain": [
       "(7483, 5)"
      ]
     },
     "execution_count": 30,
     "metadata": {},
     "output_type": "execute_result"
    }
   ],
   "source": [
    "df3.shape"
   ]
  },
  {
   "cell_type": "code",
   "execution_count": 31,
   "metadata": {},
   "outputs": [
    {
     "data": {
      "text/plain": [
       "array([2, 1, 3, 4, 6, 5])"
      ]
     },
     "execution_count": 31,
     "metadata": {},
     "output_type": "execute_result"
    }
   ],
   "source": [
    "df3['bhk'] = df3['bhk'].apply(lambda x: int(x.split(' ')[0]))\n",
    "df3.bhk.unique()"
   ]
  },
  {
   "cell_type": "code",
   "execution_count": 32,
   "metadata": {},
   "outputs": [
    {
     "data": {
      "text/html": [
       "<div>\n",
       "<style scoped>\n",
       "    .dataframe tbody tr th:only-of-type {\n",
       "        vertical-align: middle;\n",
       "    }\n",
       "\n",
       "    .dataframe tbody tr th {\n",
       "        vertical-align: top;\n",
       "    }\n",
       "\n",
       "    .dataframe thead th {\n",
       "        text-align: right;\n",
       "    }\n",
       "</style>\n",
       "<table border=\"1\" class=\"dataframe\">\n",
       "  <thead>\n",
       "    <tr style=\"text-align: right;\">\n",
       "      <th></th>\n",
       "      <th>buildupArea_sqft</th>\n",
       "      <th>bathrooms</th>\n",
       "      <th>bhk</th>\n",
       "      <th>flat_price</th>\n",
       "      <th>location1</th>\n",
       "    </tr>\n",
       "  </thead>\n",
       "  <tbody>\n",
       "    <tr>\n",
       "      <th>0</th>\n",
       "      <td>1060</td>\n",
       "      <td>2</td>\n",
       "      <td>2</td>\n",
       "      <td>0.95</td>\n",
       "      <td>Mira Road East</td>\n",
       "    </tr>\n",
       "    <tr>\n",
       "      <th>1</th>\n",
       "      <td>525</td>\n",
       "      <td>2</td>\n",
       "      <td>1</td>\n",
       "      <td>0.93</td>\n",
       "      <td>Borivali East</td>\n",
       "    </tr>\n",
       "    <tr>\n",
       "      <th>2</th>\n",
       "      <td>1065</td>\n",
       "      <td>2</td>\n",
       "      <td>2</td>\n",
       "      <td>1.48</td>\n",
       "      <td>Bhandup West</td>\n",
       "    </tr>\n",
       "    <tr>\n",
       "      <th>3</th>\n",
       "      <td>1150</td>\n",
       "      <td>2</td>\n",
       "      <td>3</td>\n",
       "      <td>2.50</td>\n",
       "      <td>Bhandup West</td>\n",
       "    </tr>\n",
       "    <tr>\n",
       "      <th>4</th>\n",
       "      <td>480</td>\n",
       "      <td>2</td>\n",
       "      <td>1</td>\n",
       "      <td>1.10</td>\n",
       "      <td>Wadala East</td>\n",
       "    </tr>\n",
       "  </tbody>\n",
       "</table>\n",
       "</div>"
      ],
      "text/plain": [
       "   buildupArea_sqft  bathrooms  bhk  flat_price       location1\n",
       "0              1060          2    2        0.95  Mira Road East\n",
       "1               525          2    1        0.93   Borivali East\n",
       "2              1065          2    2        1.48    Bhandup West\n",
       "3              1150          2    3        2.50    Bhandup West\n",
       "4               480          2    1        1.10     Wadala East"
      ]
     },
     "execution_count": 32,
     "metadata": {},
     "output_type": "execute_result"
    }
   ],
   "source": [
    "df3.head()"
   ]
  },
  {
   "cell_type": "code",
   "execution_count": 45,
   "metadata": {},
   "outputs": [
    {
     "data": {
      "text/html": [
       "<div>\n",
       "<style scoped>\n",
       "    .dataframe tbody tr th:only-of-type {\n",
       "        vertical-align: middle;\n",
       "    }\n",
       "\n",
       "    .dataframe tbody tr th {\n",
       "        vertical-align: top;\n",
       "    }\n",
       "\n",
       "    .dataframe thead th {\n",
       "        text-align: right;\n",
       "    }\n",
       "</style>\n",
       "<table border=\"1\" class=\"dataframe\">\n",
       "  <thead>\n",
       "    <tr style=\"text-align: right;\">\n",
       "      <th></th>\n",
       "      <th>Agripada</th>\n",
       "      <th>Andheri East</th>\n",
       "      <th>Andheri West</th>\n",
       "      <th>Bandra East</th>\n",
       "      <th>Bandra West</th>\n",
       "      <th>Bhandup East</th>\n",
       "      <th>Bhandup West</th>\n",
       "      <th>Bhayandar East</th>\n",
       "      <th>Bhayandar West</th>\n",
       "      <th>Boisar</th>\n",
       "      <th>...</th>\n",
       "      <th>Vikhroli East</th>\n",
       "      <th>Vikhroli West</th>\n",
       "      <th>Vile Parle East</th>\n",
       "      <th>Vile Parle West</th>\n",
       "      <th>Virar West</th>\n",
       "      <th>Wadala</th>\n",
       "      <th>Wadala East</th>\n",
       "      <th>Worli</th>\n",
       "      <th>other</th>\n",
       "      <th>others</th>\n",
       "    </tr>\n",
       "  </thead>\n",
       "  <tbody>\n",
       "    <tr>\n",
       "      <th>0</th>\n",
       "      <td>False</td>\n",
       "      <td>False</td>\n",
       "      <td>False</td>\n",
       "      <td>False</td>\n",
       "      <td>False</td>\n",
       "      <td>False</td>\n",
       "      <td>False</td>\n",
       "      <td>False</td>\n",
       "      <td>False</td>\n",
       "      <td>False</td>\n",
       "      <td>...</td>\n",
       "      <td>False</td>\n",
       "      <td>False</td>\n",
       "      <td>False</td>\n",
       "      <td>False</td>\n",
       "      <td>False</td>\n",
       "      <td>False</td>\n",
       "      <td>False</td>\n",
       "      <td>False</td>\n",
       "      <td>False</td>\n",
       "      <td>False</td>\n",
       "    </tr>\n",
       "    <tr>\n",
       "      <th>1</th>\n",
       "      <td>False</td>\n",
       "      <td>False</td>\n",
       "      <td>False</td>\n",
       "      <td>False</td>\n",
       "      <td>False</td>\n",
       "      <td>False</td>\n",
       "      <td>False</td>\n",
       "      <td>False</td>\n",
       "      <td>False</td>\n",
       "      <td>False</td>\n",
       "      <td>...</td>\n",
       "      <td>False</td>\n",
       "      <td>False</td>\n",
       "      <td>False</td>\n",
       "      <td>False</td>\n",
       "      <td>False</td>\n",
       "      <td>False</td>\n",
       "      <td>False</td>\n",
       "      <td>False</td>\n",
       "      <td>False</td>\n",
       "      <td>False</td>\n",
       "    </tr>\n",
       "    <tr>\n",
       "      <th>2</th>\n",
       "      <td>False</td>\n",
       "      <td>False</td>\n",
       "      <td>False</td>\n",
       "      <td>False</td>\n",
       "      <td>False</td>\n",
       "      <td>False</td>\n",
       "      <td>True</td>\n",
       "      <td>False</td>\n",
       "      <td>False</td>\n",
       "      <td>False</td>\n",
       "      <td>...</td>\n",
       "      <td>False</td>\n",
       "      <td>False</td>\n",
       "      <td>False</td>\n",
       "      <td>False</td>\n",
       "      <td>False</td>\n",
       "      <td>False</td>\n",
       "      <td>False</td>\n",
       "      <td>False</td>\n",
       "      <td>False</td>\n",
       "      <td>False</td>\n",
       "    </tr>\n",
       "  </tbody>\n",
       "</table>\n",
       "<p>3 rows × 69 columns</p>\n",
       "</div>"
      ],
      "text/plain": [
       "   Agripada  Andheri East  Andheri West  Bandra East  Bandra West  \\\n",
       "0     False         False         False        False        False   \n",
       "1     False         False         False        False        False   \n",
       "2     False         False         False        False        False   \n",
       "\n",
       "   Bhandup East  Bhandup West  Bhayandar East  Bhayandar West  Boisar  ...  \\\n",
       "0         False         False           False           False   False  ...   \n",
       "1         False         False           False           False   False  ...   \n",
       "2         False          True           False           False   False  ...   \n",
       "\n",
       "   Vikhroli East  Vikhroli West  Vile Parle East  Vile Parle West  Virar West  \\\n",
       "0          False          False            False            False       False   \n",
       "1          False          False            False            False       False   \n",
       "2          False          False            False            False       False   \n",
       "\n",
       "   Wadala  Wadala East  Worli  other  others  \n",
       "0   False        False  False  False   False  \n",
       "1   False        False  False  False   False  \n",
       "2   False        False  False  False   False  \n",
       "\n",
       "[3 rows x 69 columns]"
      ]
     },
     "execution_count": 45,
     "metadata": {},
     "output_type": "execute_result"
    }
   ],
   "source": [
    "dummies = pd.get_dummies(df3.location1)\n",
    "dummies.head(3)"
   ]
  },
  {
   "cell_type": "code",
   "execution_count": 46,
   "metadata": {},
   "outputs": [
    {
     "data": {
      "text/html": [
       "<div>\n",
       "<style scoped>\n",
       "    .dataframe tbody tr th:only-of-type {\n",
       "        vertical-align: middle;\n",
       "    }\n",
       "\n",
       "    .dataframe tbody tr th {\n",
       "        vertical-align: top;\n",
       "    }\n",
       "\n",
       "    .dataframe thead th {\n",
       "        text-align: right;\n",
       "    }\n",
       "</style>\n",
       "<table border=\"1\" class=\"dataframe\">\n",
       "  <thead>\n",
       "    <tr style=\"text-align: right;\">\n",
       "      <th></th>\n",
       "      <th>buildupArea_sqft</th>\n",
       "      <th>bathrooms</th>\n",
       "      <th>bhk</th>\n",
       "      <th>flat_price</th>\n",
       "      <th>location1</th>\n",
       "      <th>Agripada</th>\n",
       "      <th>Andheri East</th>\n",
       "      <th>Andheri West</th>\n",
       "      <th>Bandra East</th>\n",
       "      <th>Bandra West</th>\n",
       "      <th>...</th>\n",
       "      <th>Vikhroli East</th>\n",
       "      <th>Vikhroli West</th>\n",
       "      <th>Vile Parle East</th>\n",
       "      <th>Vile Parle West</th>\n",
       "      <th>Virar West</th>\n",
       "      <th>Wadala</th>\n",
       "      <th>Wadala East</th>\n",
       "      <th>Worli</th>\n",
       "      <th>other</th>\n",
       "      <th>others</th>\n",
       "    </tr>\n",
       "  </thead>\n",
       "  <tbody>\n",
       "    <tr>\n",
       "      <th>0</th>\n",
       "      <td>1060</td>\n",
       "      <td>2</td>\n",
       "      <td>2</td>\n",
       "      <td>0.95</td>\n",
       "      <td>Mira Road East</td>\n",
       "      <td>False</td>\n",
       "      <td>False</td>\n",
       "      <td>False</td>\n",
       "      <td>False</td>\n",
       "      <td>False</td>\n",
       "      <td>...</td>\n",
       "      <td>False</td>\n",
       "      <td>False</td>\n",
       "      <td>False</td>\n",
       "      <td>False</td>\n",
       "      <td>False</td>\n",
       "      <td>False</td>\n",
       "      <td>False</td>\n",
       "      <td>False</td>\n",
       "      <td>False</td>\n",
       "      <td>False</td>\n",
       "    </tr>\n",
       "    <tr>\n",
       "      <th>1</th>\n",
       "      <td>525</td>\n",
       "      <td>2</td>\n",
       "      <td>1</td>\n",
       "      <td>0.93</td>\n",
       "      <td>Borivali East</td>\n",
       "      <td>False</td>\n",
       "      <td>False</td>\n",
       "      <td>False</td>\n",
       "      <td>False</td>\n",
       "      <td>False</td>\n",
       "      <td>...</td>\n",
       "      <td>False</td>\n",
       "      <td>False</td>\n",
       "      <td>False</td>\n",
       "      <td>False</td>\n",
       "      <td>False</td>\n",
       "      <td>False</td>\n",
       "      <td>False</td>\n",
       "      <td>False</td>\n",
       "      <td>False</td>\n",
       "      <td>False</td>\n",
       "    </tr>\n",
       "    <tr>\n",
       "      <th>2</th>\n",
       "      <td>1065</td>\n",
       "      <td>2</td>\n",
       "      <td>2</td>\n",
       "      <td>1.48</td>\n",
       "      <td>Bhandup West</td>\n",
       "      <td>False</td>\n",
       "      <td>False</td>\n",
       "      <td>False</td>\n",
       "      <td>False</td>\n",
       "      <td>False</td>\n",
       "      <td>...</td>\n",
       "      <td>False</td>\n",
       "      <td>False</td>\n",
       "      <td>False</td>\n",
       "      <td>False</td>\n",
       "      <td>False</td>\n",
       "      <td>False</td>\n",
       "      <td>False</td>\n",
       "      <td>False</td>\n",
       "      <td>False</td>\n",
       "      <td>False</td>\n",
       "    </tr>\n",
       "    <tr>\n",
       "      <th>3</th>\n",
       "      <td>1150</td>\n",
       "      <td>2</td>\n",
       "      <td>3</td>\n",
       "      <td>2.50</td>\n",
       "      <td>Bhandup West</td>\n",
       "      <td>False</td>\n",
       "      <td>False</td>\n",
       "      <td>False</td>\n",
       "      <td>False</td>\n",
       "      <td>False</td>\n",
       "      <td>...</td>\n",
       "      <td>False</td>\n",
       "      <td>False</td>\n",
       "      <td>False</td>\n",
       "      <td>False</td>\n",
       "      <td>False</td>\n",
       "      <td>False</td>\n",
       "      <td>False</td>\n",
       "      <td>False</td>\n",
       "      <td>False</td>\n",
       "      <td>False</td>\n",
       "    </tr>\n",
       "    <tr>\n",
       "      <th>4</th>\n",
       "      <td>480</td>\n",
       "      <td>2</td>\n",
       "      <td>1</td>\n",
       "      <td>1.10</td>\n",
       "      <td>Wadala East</td>\n",
       "      <td>False</td>\n",
       "      <td>False</td>\n",
       "      <td>False</td>\n",
       "      <td>False</td>\n",
       "      <td>False</td>\n",
       "      <td>...</td>\n",
       "      <td>False</td>\n",
       "      <td>False</td>\n",
       "      <td>False</td>\n",
       "      <td>False</td>\n",
       "      <td>False</td>\n",
       "      <td>False</td>\n",
       "      <td>True</td>\n",
       "      <td>False</td>\n",
       "      <td>False</td>\n",
       "      <td>False</td>\n",
       "    </tr>\n",
       "  </tbody>\n",
       "</table>\n",
       "<p>5 rows × 74 columns</p>\n",
       "</div>"
      ],
      "text/plain": [
       "   buildupArea_sqft  bathrooms  bhk  flat_price       location1  Agripada  \\\n",
       "0              1060          2    2        0.95  Mira Road East     False   \n",
       "1               525          2    1        0.93   Borivali East     False   \n",
       "2              1065          2    2        1.48    Bhandup West     False   \n",
       "3              1150          2    3        2.50    Bhandup West     False   \n",
       "4               480          2    1        1.10     Wadala East     False   \n",
       "\n",
       "   Andheri East  Andheri West  Bandra East  Bandra West  ...  Vikhroli East  \\\n",
       "0         False         False        False        False  ...          False   \n",
       "1         False         False        False        False  ...          False   \n",
       "2         False         False        False        False  ...          False   \n",
       "3         False         False        False        False  ...          False   \n",
       "4         False         False        False        False  ...          False   \n",
       "\n",
       "   Vikhroli West  Vile Parle East  Vile Parle West  Virar West  Wadala  \\\n",
       "0          False            False            False       False   False   \n",
       "1          False            False            False       False   False   \n",
       "2          False            False            False       False   False   \n",
       "3          False            False            False       False   False   \n",
       "4          False            False            False       False   False   \n",
       "\n",
       "   Wadala East  Worli  other  others  \n",
       "0        False  False  False   False  \n",
       "1        False  False  False   False  \n",
       "2        False  False  False   False  \n",
       "3        False  False  False   False  \n",
       "4         True  False  False   False  \n",
       "\n",
       "[5 rows x 74 columns]"
      ]
     },
     "execution_count": 46,
     "metadata": {},
     "output_type": "execute_result"
    }
   ],
   "source": [
    "df4 = pd.concat([df3,dummies],axis='columns')\n",
    "df4.head()"
   ]
  },
  {
   "cell_type": "code",
   "execution_count": 48,
   "metadata": {},
   "outputs": [
    {
     "data": {
      "text/html": [
       "<div>\n",
       "<style scoped>\n",
       "    .dataframe tbody tr th:only-of-type {\n",
       "        vertical-align: middle;\n",
       "    }\n",
       "\n",
       "    .dataframe tbody tr th {\n",
       "        vertical-align: top;\n",
       "    }\n",
       "\n",
       "    .dataframe thead th {\n",
       "        text-align: right;\n",
       "    }\n",
       "</style>\n",
       "<table border=\"1\" class=\"dataframe\">\n",
       "  <thead>\n",
       "    <tr style=\"text-align: right;\">\n",
       "      <th></th>\n",
       "      <th>buildupArea_sqft</th>\n",
       "      <th>bathrooms</th>\n",
       "      <th>bhk</th>\n",
       "      <th>flat_price</th>\n",
       "      <th>Agripada</th>\n",
       "      <th>Andheri East</th>\n",
       "      <th>Andheri West</th>\n",
       "      <th>Bandra East</th>\n",
       "      <th>Bandra West</th>\n",
       "      <th>Bhandup East</th>\n",
       "      <th>...</th>\n",
       "      <th>Vikhroli East</th>\n",
       "      <th>Vikhroli West</th>\n",
       "      <th>Vile Parle East</th>\n",
       "      <th>Vile Parle West</th>\n",
       "      <th>Virar West</th>\n",
       "      <th>Wadala</th>\n",
       "      <th>Wadala East</th>\n",
       "      <th>Worli</th>\n",
       "      <th>other</th>\n",
       "      <th>others</th>\n",
       "    </tr>\n",
       "  </thead>\n",
       "  <tbody>\n",
       "    <tr>\n",
       "      <th>0</th>\n",
       "      <td>1060</td>\n",
       "      <td>2</td>\n",
       "      <td>2</td>\n",
       "      <td>0.95</td>\n",
       "      <td>False</td>\n",
       "      <td>False</td>\n",
       "      <td>False</td>\n",
       "      <td>False</td>\n",
       "      <td>False</td>\n",
       "      <td>False</td>\n",
       "      <td>...</td>\n",
       "      <td>False</td>\n",
       "      <td>False</td>\n",
       "      <td>False</td>\n",
       "      <td>False</td>\n",
       "      <td>False</td>\n",
       "      <td>False</td>\n",
       "      <td>False</td>\n",
       "      <td>False</td>\n",
       "      <td>False</td>\n",
       "      <td>False</td>\n",
       "    </tr>\n",
       "    <tr>\n",
       "      <th>1</th>\n",
       "      <td>525</td>\n",
       "      <td>2</td>\n",
       "      <td>1</td>\n",
       "      <td>0.93</td>\n",
       "      <td>False</td>\n",
       "      <td>False</td>\n",
       "      <td>False</td>\n",
       "      <td>False</td>\n",
       "      <td>False</td>\n",
       "      <td>False</td>\n",
       "      <td>...</td>\n",
       "      <td>False</td>\n",
       "      <td>False</td>\n",
       "      <td>False</td>\n",
       "      <td>False</td>\n",
       "      <td>False</td>\n",
       "      <td>False</td>\n",
       "      <td>False</td>\n",
       "      <td>False</td>\n",
       "      <td>False</td>\n",
       "      <td>False</td>\n",
       "    </tr>\n",
       "  </tbody>\n",
       "</table>\n",
       "<p>2 rows × 73 columns</p>\n",
       "</div>"
      ],
      "text/plain": [
       "   buildupArea_sqft  bathrooms  bhk  flat_price  Agripada  Andheri East  \\\n",
       "0              1060          2    2        0.95     False         False   \n",
       "1               525          2    1        0.93     False         False   \n",
       "\n",
       "   Andheri West  Bandra East  Bandra West  Bhandup East  ...  Vikhroli East  \\\n",
       "0         False        False        False         False  ...          False   \n",
       "1         False        False        False         False  ...          False   \n",
       "\n",
       "   Vikhroli West  Vile Parle East  Vile Parle West  Virar West  Wadala  \\\n",
       "0          False            False            False       False   False   \n",
       "1          False            False            False       False   False   \n",
       "\n",
       "   Wadala East  Worli  other  others  \n",
       "0        False  False  False   False  \n",
       "1        False  False  False   False  \n",
       "\n",
       "[2 rows x 73 columns]"
      ]
     },
     "execution_count": 48,
     "metadata": {},
     "output_type": "execute_result"
    }
   ],
   "source": [
    "df4 = df4.drop('location1',axis='columns')\n",
    "df4.head(2)"
   ]
  },
  {
   "cell_type": "code",
   "execution_count": 49,
   "metadata": {},
   "outputs": [
    {
     "data": {
      "text/plain": [
       "(7483, 73)"
      ]
     },
     "execution_count": 49,
     "metadata": {},
     "output_type": "execute_result"
    }
   ],
   "source": [
    "df4.shape"
   ]
  },
  {
   "cell_type": "code",
   "execution_count": 52,
   "metadata": {
    "scrolled": true
   },
   "outputs": [
    {
     "data": {
      "text/html": [
       "<div>\n",
       "<style scoped>\n",
       "    .dataframe tbody tr th:only-of-type {\n",
       "        vertical-align: middle;\n",
       "    }\n",
       "\n",
       "    .dataframe tbody tr th {\n",
       "        vertical-align: top;\n",
       "    }\n",
       "\n",
       "    .dataframe thead th {\n",
       "        text-align: right;\n",
       "    }\n",
       "</style>\n",
       "<table border=\"1\" class=\"dataframe\">\n",
       "  <thead>\n",
       "    <tr style=\"text-align: right;\">\n",
       "      <th></th>\n",
       "      <th>buildupArea_sqft</th>\n",
       "      <th>bathrooms</th>\n",
       "      <th>bhk</th>\n",
       "      <th>Agripada</th>\n",
       "      <th>Andheri East</th>\n",
       "      <th>Andheri West</th>\n",
       "      <th>Bandra East</th>\n",
       "      <th>Bandra West</th>\n",
       "      <th>Bhandup East</th>\n",
       "      <th>Bhandup West</th>\n",
       "      <th>...</th>\n",
       "      <th>Vikhroli East</th>\n",
       "      <th>Vikhroli West</th>\n",
       "      <th>Vile Parle East</th>\n",
       "      <th>Vile Parle West</th>\n",
       "      <th>Virar West</th>\n",
       "      <th>Wadala</th>\n",
       "      <th>Wadala East</th>\n",
       "      <th>Worli</th>\n",
       "      <th>other</th>\n",
       "      <th>others</th>\n",
       "    </tr>\n",
       "  </thead>\n",
       "  <tbody>\n",
       "    <tr>\n",
       "      <th>0</th>\n",
       "      <td>1060</td>\n",
       "      <td>2</td>\n",
       "      <td>2</td>\n",
       "      <td>False</td>\n",
       "      <td>False</td>\n",
       "      <td>False</td>\n",
       "      <td>False</td>\n",
       "      <td>False</td>\n",
       "      <td>False</td>\n",
       "      <td>False</td>\n",
       "      <td>...</td>\n",
       "      <td>False</td>\n",
       "      <td>False</td>\n",
       "      <td>False</td>\n",
       "      <td>False</td>\n",
       "      <td>False</td>\n",
       "      <td>False</td>\n",
       "      <td>False</td>\n",
       "      <td>False</td>\n",
       "      <td>False</td>\n",
       "      <td>False</td>\n",
       "    </tr>\n",
       "    <tr>\n",
       "      <th>1</th>\n",
       "      <td>525</td>\n",
       "      <td>2</td>\n",
       "      <td>1</td>\n",
       "      <td>False</td>\n",
       "      <td>False</td>\n",
       "      <td>False</td>\n",
       "      <td>False</td>\n",
       "      <td>False</td>\n",
       "      <td>False</td>\n",
       "      <td>False</td>\n",
       "      <td>...</td>\n",
       "      <td>False</td>\n",
       "      <td>False</td>\n",
       "      <td>False</td>\n",
       "      <td>False</td>\n",
       "      <td>False</td>\n",
       "      <td>False</td>\n",
       "      <td>False</td>\n",
       "      <td>False</td>\n",
       "      <td>False</td>\n",
       "      <td>False</td>\n",
       "    </tr>\n",
       "    <tr>\n",
       "      <th>2</th>\n",
       "      <td>1065</td>\n",
       "      <td>2</td>\n",
       "      <td>2</td>\n",
       "      <td>False</td>\n",
       "      <td>False</td>\n",
       "      <td>False</td>\n",
       "      <td>False</td>\n",
       "      <td>False</td>\n",
       "      <td>False</td>\n",
       "      <td>True</td>\n",
       "      <td>...</td>\n",
       "      <td>False</td>\n",
       "      <td>False</td>\n",
       "      <td>False</td>\n",
       "      <td>False</td>\n",
       "      <td>False</td>\n",
       "      <td>False</td>\n",
       "      <td>False</td>\n",
       "      <td>False</td>\n",
       "      <td>False</td>\n",
       "      <td>False</td>\n",
       "    </tr>\n",
       "    <tr>\n",
       "      <th>3</th>\n",
       "      <td>1150</td>\n",
       "      <td>2</td>\n",
       "      <td>3</td>\n",
       "      <td>False</td>\n",
       "      <td>False</td>\n",
       "      <td>False</td>\n",
       "      <td>False</td>\n",
       "      <td>False</td>\n",
       "      <td>False</td>\n",
       "      <td>True</td>\n",
       "      <td>...</td>\n",
       "      <td>False</td>\n",
       "      <td>False</td>\n",
       "      <td>False</td>\n",
       "      <td>False</td>\n",
       "      <td>False</td>\n",
       "      <td>False</td>\n",
       "      <td>False</td>\n",
       "      <td>False</td>\n",
       "      <td>False</td>\n",
       "      <td>False</td>\n",
       "    </tr>\n",
       "    <tr>\n",
       "      <th>4</th>\n",
       "      <td>480</td>\n",
       "      <td>2</td>\n",
       "      <td>1</td>\n",
       "      <td>False</td>\n",
       "      <td>False</td>\n",
       "      <td>False</td>\n",
       "      <td>False</td>\n",
       "      <td>False</td>\n",
       "      <td>False</td>\n",
       "      <td>False</td>\n",
       "      <td>...</td>\n",
       "      <td>False</td>\n",
       "      <td>False</td>\n",
       "      <td>False</td>\n",
       "      <td>False</td>\n",
       "      <td>False</td>\n",
       "      <td>False</td>\n",
       "      <td>True</td>\n",
       "      <td>False</td>\n",
       "      <td>False</td>\n",
       "      <td>False</td>\n",
       "    </tr>\n",
       "  </tbody>\n",
       "</table>\n",
       "<p>5 rows × 72 columns</p>\n",
       "</div>"
      ],
      "text/plain": [
       "   buildupArea_sqft  bathrooms  bhk  Agripada  Andheri East  Andheri West  \\\n",
       "0              1060          2    2     False         False         False   \n",
       "1               525          2    1     False         False         False   \n",
       "2              1065          2    2     False         False         False   \n",
       "3              1150          2    3     False         False         False   \n",
       "4               480          2    1     False         False         False   \n",
       "\n",
       "   Bandra East  Bandra West  Bhandup East  Bhandup West  ...  Vikhroli East  \\\n",
       "0        False        False         False         False  ...          False   \n",
       "1        False        False         False         False  ...          False   \n",
       "2        False        False         False          True  ...          False   \n",
       "3        False        False         False          True  ...          False   \n",
       "4        False        False         False         False  ...          False   \n",
       "\n",
       "   Vikhroli West  Vile Parle East  Vile Parle West  Virar West  Wadala  \\\n",
       "0          False            False            False       False   False   \n",
       "1          False            False            False       False   False   \n",
       "2          False            False            False       False   False   \n",
       "3          False            False            False       False   False   \n",
       "4          False            False            False       False   False   \n",
       "\n",
       "   Wadala East  Worli  other  others  \n",
       "0        False  False  False   False  \n",
       "1        False  False  False   False  \n",
       "2        False  False  False   False  \n",
       "3        False  False  False   False  \n",
       "4         True  False  False   False  \n",
       "\n",
       "[5 rows x 72 columns]"
      ]
     },
     "execution_count": 52,
     "metadata": {},
     "output_type": "execute_result"
    }
   ],
   "source": [
    "X = df4.drop(['flat_price'],axis='columns')\n",
    "X.head()"
   ]
  },
  {
   "cell_type": "code",
   "execution_count": 53,
   "metadata": {},
   "outputs": [
    {
     "data": {
      "text/plain": [
       "(7483, 72)"
      ]
     },
     "execution_count": 53,
     "metadata": {},
     "output_type": "execute_result"
    }
   ],
   "source": [
    "X.shape"
   ]
  },
  {
   "cell_type": "code",
   "execution_count": 58,
   "metadata": {
    "scrolled": true
   },
   "outputs": [
    {
     "data": {
      "text/plain": [
       "0    0.95\n",
       "1    0.93\n",
       "2    1.48\n",
       "Name: flat_price, dtype: float64"
      ]
     },
     "execution_count": 58,
     "metadata": {},
     "output_type": "execute_result"
    }
   ],
   "source": [
    "y = df4.flat_price\n",
    "y.head(3)"
   ]
  },
  {
   "cell_type": "code",
   "execution_count": 59,
   "metadata": {},
   "outputs": [
    {
     "data": {
      "text/plain": [
       "7483"
      ]
     },
     "execution_count": 59,
     "metadata": {},
     "output_type": "execute_result"
    }
   ],
   "source": [
    "len(y)"
   ]
  },
  {
   "cell_type": "code",
   "execution_count": 63,
   "metadata": {},
   "outputs": [],
   "source": [
    "from sklearn.model_selection import train_test_split\n",
    "X_train, X_test, y_train, y_test = train_test_split(X,y,test_size=0.2,random_state=10)"
   ]
  },
  {
   "cell_type": "code",
   "execution_count": 64,
   "metadata": {},
   "outputs": [
    {
     "data": {
      "text/plain": [
       "0.8360632399321484"
      ]
     },
     "execution_count": 64,
     "metadata": {},
     "output_type": "execute_result"
    }
   ],
   "source": [
    "from sklearn.linear_model import LinearRegression\n",
    "model = LinearRegression()\n",
    "model.fit(X_train,y_train)\n",
    "model.score(X_test,y_test)"
   ]
  },
  {
   "cell_type": "code",
   "execution_count": 70,
   "metadata": {},
   "outputs": [],
   "source": [
    "def predict_price(location,sqft,bath,bhk):    \n",
    "    loc_index = np.where(X.columns==location)[0][0]\n",
    "\n",
    "    x = np.zeros(len(X.columns))\n",
    "    x[0] = sqft\n",
    "    x[1] = bath\n",
    "    x[2] = bhk\n",
    "    if loc_index >= 0:\n",
    "        x[loc_index] = 1\n",
    "\n",
    "    return lr_clf.predict([x])[0]"
   ]
  },
  {
   "cell_type": "code",
   "execution_count": 73,
   "metadata": {},
   "outputs": [
    {
     "name": "stderr",
     "output_type": "stream",
     "text": [
      "C:\\Users\\akhil\\anaconda3\\Lib\\site-packages\\sklearn\\utils\\validation.py:2749: UserWarning: X does not have valid feature names, but LinearRegression was fitted with feature names\n",
      "  warnings.warn(\n"
     ]
    },
    {
     "data": {
      "text/plain": [
       "np.float64(2.2859155399498965)"
      ]
     },
     "execution_count": 73,
     "metadata": {},
     "output_type": "execute_result"
    }
   ],
   "source": [
    "predict_price('Agripada',590, 2, 2)"
   ]
  },
  {
   "cell_type": "code",
   "execution_count": 74,
   "metadata": {},
   "outputs": [],
   "source": [
    "import pickle\n",
    "with open('mumbai_home_prices_model.pickle','wb') as f:\n",
    "    pickle.dump(lr_clf,f)"
   ]
  },
  {
   "cell_type": "code",
   "execution_count": 75,
   "metadata": {},
   "outputs": [],
   "source": [
    "import json\n",
    "columns = {\n",
    "    'data_columns' : [col.lower() for col in X.columns]\n",
    "}\n",
    "with open(\"columns.json\",\"w\") as f:\n",
    "    f.write(json.dumps(columns))"
   ]
  },
  {
   "cell_type": "code",
   "execution_count": null,
   "metadata": {},
   "outputs": [],
   "source": []
  }
 ],
 "metadata": {
  "kernelspec": {
   "display_name": "Python 3 (ipykernel)",
   "language": "python",
   "name": "python3"
  },
  "language_info": {
   "codemirror_mode": {
    "name": "ipython",
    "version": 3
   },
   "file_extension": ".py",
   "mimetype": "text/x-python",
   "name": "python",
   "nbconvert_exporter": "python",
   "pygments_lexer": "ipython3",
   "version": "3.12.7"
  }
 },
 "nbformat": 4,
 "nbformat_minor": 4
}
